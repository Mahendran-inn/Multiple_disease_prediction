{
 "cells": [
  {
   "cell_type": "code",
   "execution_count": 6,
   "id": "5be1640c",
   "metadata": {},
   "outputs": [],
   "source": [
    "import pandas as pd\n",
    "\n",
    "data= pd.read_csv(\"kidney_disease - kidney_disease.csv\")\n",
    "df=data.copy()"
   ]
  },
  {
   "cell_type": "code",
   "execution_count": 7,
   "id": "d9f097db",
   "metadata": {},
   "outputs": [],
   "source": [
    "important_cols = ['sc', 'bu', 'hemo', 'al', 'sg', 'bgr', 'pcv', 'htn', 'dm', 'age','classification']\n",
    "df_imp=df[important_cols]"
   ]
  },
  {
   "cell_type": "code",
   "execution_count": 8,
   "id": "631573f6",
   "metadata": {},
   "outputs": [],
   "source": [
    "df_imp=df_imp.rename(columns={\n",
    "    'sc': 'serum_creatinine',\n",
    "    'bu': 'blood_urea',\n",
    "    'hemo': 'hemoglobin',\n",
    "    'al': 'albumin',\n",
    "    'sg': 'specific_gravity',\n",
    "    'bgr': 'blood_glucose_random',\n",
    "    'pcv': 'packed_cell_volume',\n",
    "    'htn': 'hypertension',\n",
    "    'dm': 'diabetes_mellitus',\n",
    "    'age': 'age'\n",
    "})"
   ]
  },
  {
   "cell_type": "code",
   "execution_count": 9,
   "id": "0dc91b72",
   "metadata": {},
   "outputs": [],
   "source": [
    "df_imp['packed_cell_volume'] = pd.to_numeric(df_imp['packed_cell_volume'], errors='coerce')    "
   ]
  },
  {
   "cell_type": "code",
   "execution_count": 10,
   "id": "e1e55f6b",
   "metadata": {},
   "outputs": [],
   "source": [
    "num_cols = df_imp.select_dtypes(include=['float64', 'int64']).columns\n",
    "cat_cols = df_imp.select_dtypes(include=['object', 'category']).columns"
   ]
  },
  {
   "cell_type": "code",
   "execution_count": null,
   "id": "7407e606",
   "metadata": {},
   "outputs": [],
   "source": [
    "num_cols"
   ]
  },
  {
   "cell_type": "code",
   "execution_count": null,
   "id": "b5b9ca67",
   "metadata": {},
   "outputs": [],
   "source": [
    "cat_cols"
   ]
  },
  {
   "cell_type": "code",
   "execution_count": 11,
   "id": "004fc47b",
   "metadata": {},
   "outputs": [],
   "source": [
    "df_imp[num_cols] = df_imp[num_cols].fillna(df_imp[num_cols].median())"
   ]
  },
  {
   "cell_type": "code",
   "execution_count": 12,
   "id": "6d322ce3",
   "metadata": {},
   "outputs": [],
   "source": [
    "for col in cat_cols:\n",
    "    df_imp[col]=df_imp[col].fillna(df_imp[col].mode()[0])"
   ]
  },
  {
   "cell_type": "code",
   "execution_count": 13,
   "id": "29974752",
   "metadata": {},
   "outputs": [
    {
     "data": {
      "application/vnd.microsoft.datawrangler.viewer.v0+json": {
       "columns": [
        {
         "name": "index",
         "rawType": "int64",
         "type": "integer"
        },
        {
         "name": "classification",
         "rawType": "object",
         "type": "string"
        }
       ],
       "ref": "4c229080-5364-4859-bd21-8ffe2b334876",
       "rows": [
        [
         "0",
         "ckd"
        ],
        [
         "1",
         "ckd"
        ],
        [
         "2",
         "ckd"
        ],
        [
         "3",
         "ckd"
        ],
        [
         "4",
         "ckd"
        ],
        [
         "5",
         "ckd"
        ],
        [
         "6",
         "ckd"
        ],
        [
         "7",
         "ckd"
        ],
        [
         "8",
         "ckd"
        ],
        [
         "9",
         "ckd"
        ],
        [
         "10",
         "ckd"
        ],
        [
         "11",
         "ckd"
        ],
        [
         "12",
         "ckd"
        ],
        [
         "13",
         "ckd"
        ],
        [
         "14",
         "ckd"
        ],
        [
         "15",
         "ckd"
        ],
        [
         "16",
         "ckd"
        ],
        [
         "17",
         "ckd"
        ],
        [
         "18",
         "ckd"
        ],
        [
         "19",
         "ckd"
        ],
        [
         "20",
         "ckd"
        ],
        [
         "21",
         "ckd"
        ],
        [
         "22",
         "ckd"
        ],
        [
         "23",
         "ckd"
        ],
        [
         "24",
         "ckd"
        ],
        [
         "25",
         "ckd"
        ],
        [
         "26",
         "ckd"
        ],
        [
         "27",
         "ckd"
        ],
        [
         "28",
         "ckd"
        ],
        [
         "29",
         "ckd"
        ],
        [
         "30",
         "ckd"
        ],
        [
         "31",
         "ckd"
        ],
        [
         "32",
         "ckd"
        ],
        [
         "33",
         "ckd"
        ],
        [
         "34",
         "ckd"
        ],
        [
         "35",
         "ckd"
        ],
        [
         "36",
         "ckd"
        ],
        [
         "37",
         "ckd"
        ],
        [
         "38",
         "ckd"
        ],
        [
         "39",
         "ckd"
        ],
        [
         "40",
         "ckd"
        ],
        [
         "41",
         "ckd"
        ],
        [
         "42",
         "ckd"
        ],
        [
         "43",
         "ckd"
        ],
        [
         "44",
         "ckd"
        ],
        [
         "45",
         "ckd"
        ],
        [
         "46",
         "ckd"
        ],
        [
         "47",
         "ckd"
        ],
        [
         "48",
         "ckd"
        ],
        [
         "49",
         "ckd"
        ]
       ],
       "shape": {
        "columns": 1,
        "rows": 400
       }
      },
      "text/plain": [
       "0         ckd\n",
       "1         ckd\n",
       "2         ckd\n",
       "3         ckd\n",
       "4         ckd\n",
       "        ...  \n",
       "395    notckd\n",
       "396    notckd\n",
       "397    notckd\n",
       "398    notckd\n",
       "399    notckd\n",
       "Name: classification, Length: 400, dtype: object"
      ]
     },
     "execution_count": 13,
     "metadata": {},
     "output_type": "execute_result"
    }
   ],
   "source": [
    "df_imp['classification']"
   ]
  },
  {
   "cell_type": "code",
   "execution_count": 14,
   "id": "405c5463",
   "metadata": {},
   "outputs": [],
   "source": [
    "# Convert text to numbers\n",
    "for col in df_imp.columns:\n",
    "    if df_imp[col].dtype == 'object':\n",
    "        df_imp[col] = df_imp[col].astype('category').cat.codes"
   ]
  },
  {
   "cell_type": "code",
   "execution_count": 15,
   "id": "b08cecb2",
   "metadata": {},
   "outputs": [
    {
     "data": {
      "application/vnd.microsoft.datawrangler.viewer.v0+json": {
       "columns": [
        {
         "name": "index",
         "rawType": "int64",
         "type": "integer"
        },
        {
         "name": "classification",
         "rawType": "int8",
         "type": "integer"
        }
       ],
       "ref": "9135dd1a-fdd3-4050-820c-ec7785945d62",
       "rows": [
        [
         "0",
         "0"
        ],
        [
         "1",
         "0"
        ],
        [
         "2",
         "0"
        ],
        [
         "3",
         "0"
        ],
        [
         "4",
         "0"
        ],
        [
         "5",
         "0"
        ],
        [
         "6",
         "0"
        ],
        [
         "7",
         "0"
        ],
        [
         "8",
         "0"
        ],
        [
         "9",
         "0"
        ],
        [
         "10",
         "0"
        ],
        [
         "11",
         "0"
        ],
        [
         "12",
         "0"
        ],
        [
         "13",
         "0"
        ],
        [
         "14",
         "0"
        ],
        [
         "15",
         "0"
        ],
        [
         "16",
         "0"
        ],
        [
         "17",
         "0"
        ],
        [
         "18",
         "0"
        ],
        [
         "19",
         "0"
        ],
        [
         "20",
         "0"
        ],
        [
         "21",
         "0"
        ],
        [
         "22",
         "0"
        ],
        [
         "23",
         "0"
        ],
        [
         "24",
         "0"
        ],
        [
         "25",
         "0"
        ],
        [
         "26",
         "0"
        ],
        [
         "27",
         "0"
        ],
        [
         "28",
         "0"
        ],
        [
         "29",
         "0"
        ],
        [
         "30",
         "0"
        ],
        [
         "31",
         "0"
        ],
        [
         "32",
         "0"
        ],
        [
         "33",
         "0"
        ],
        [
         "34",
         "0"
        ],
        [
         "35",
         "0"
        ],
        [
         "36",
         "0"
        ],
        [
         "37",
         "0"
        ],
        [
         "38",
         "0"
        ],
        [
         "39",
         "0"
        ],
        [
         "40",
         "0"
        ],
        [
         "41",
         "0"
        ],
        [
         "42",
         "0"
        ],
        [
         "43",
         "0"
        ],
        [
         "44",
         "0"
        ],
        [
         "45",
         "0"
        ],
        [
         "46",
         "0"
        ],
        [
         "47",
         "0"
        ],
        [
         "48",
         "0"
        ],
        [
         "49",
         "0"
        ]
       ],
       "shape": {
        "columns": 1,
        "rows": 400
       }
      },
      "text/plain": [
       "0      0\n",
       "1      0\n",
       "2      0\n",
       "3      0\n",
       "4      0\n",
       "      ..\n",
       "395    1\n",
       "396    1\n",
       "397    1\n",
       "398    1\n",
       "399    1\n",
       "Name: classification, Length: 400, dtype: int8"
      ]
     },
     "execution_count": 15,
     "metadata": {},
     "output_type": "execute_result"
    }
   ],
   "source": [
    "df_imp['classification']"
   ]
  },
  {
   "cell_type": "code",
   "execution_count": null,
   "id": "c1e79769",
   "metadata": {},
   "outputs": [],
   "source": [
    "df_imp.shape"
   ]
  },
  {
   "cell_type": "code",
   "execution_count": null,
   "id": "6e5913df",
   "metadata": {},
   "outputs": [
    {
     "name": "stdout",
     "output_type": "stream",
     "text": [
      "Outliers capped. New shape: (400, 11)\n"
     ]
    }
   ],
   "source": [
    "\n",
    "df_kidney= df_imp.copy()\n",
    "\n",
    "\n",
    "for col in df_kidney:\n",
    "    Q1 = df_kidney[col].quantile(0.25)\n",
    "    Q3 = df_kidney[col].quantile(0.75)\n",
    "    IQR = Q3 - Q1\n",
    "\n",
    "    lower_bound = Q1 - 1.5 * IQR\n",
    "    upper_bound = Q3 + 1.5 * IQR\n",
    "\n",
    " \n",
    "    df_kidney[col] = df_kidney[col].clip(lower=lower_bound, upper=upper_bound)\n",
    "\n",
    "print(\"Outliers capped. New shape:\", df_kidney.shape)\n"
   ]
  },
  {
   "cell_type": "code",
   "execution_count": 17,
   "id": "1e104ed2",
   "metadata": {},
   "outputs": [
    {
     "data": {
      "application/vnd.microsoft.datawrangler.viewer.v0+json": {
       "columns": [
        {
         "name": "index",
         "rawType": "int64",
         "type": "integer"
        },
        {
         "name": "classification",
         "rawType": "int8",
         "type": "integer"
        }
       ],
       "ref": "b2a7a6fb-b5bb-4cbc-be0d-425989f16d7d",
       "rows": [
        [
         "0",
         "0"
        ],
        [
         "1",
         "0"
        ],
        [
         "2",
         "0"
        ],
        [
         "3",
         "0"
        ],
        [
         "4",
         "0"
        ],
        [
         "5",
         "0"
        ],
        [
         "6",
         "0"
        ],
        [
         "7",
         "0"
        ],
        [
         "8",
         "0"
        ],
        [
         "9",
         "0"
        ],
        [
         "10",
         "0"
        ],
        [
         "11",
         "0"
        ],
        [
         "12",
         "0"
        ],
        [
         "13",
         "0"
        ],
        [
         "14",
         "0"
        ],
        [
         "15",
         "0"
        ],
        [
         "16",
         "0"
        ],
        [
         "17",
         "0"
        ],
        [
         "18",
         "0"
        ],
        [
         "19",
         "0"
        ],
        [
         "20",
         "0"
        ],
        [
         "21",
         "0"
        ],
        [
         "22",
         "0"
        ],
        [
         "23",
         "0"
        ],
        [
         "24",
         "0"
        ],
        [
         "25",
         "0"
        ],
        [
         "26",
         "0"
        ],
        [
         "27",
         "0"
        ],
        [
         "28",
         "0"
        ],
        [
         "29",
         "0"
        ],
        [
         "30",
         "0"
        ],
        [
         "31",
         "0"
        ],
        [
         "32",
         "0"
        ],
        [
         "33",
         "0"
        ],
        [
         "34",
         "0"
        ],
        [
         "35",
         "0"
        ],
        [
         "36",
         "0"
        ],
        [
         "37",
         "0"
        ],
        [
         "38",
         "0"
        ],
        [
         "39",
         "0"
        ],
        [
         "40",
         "0"
        ],
        [
         "41",
         "0"
        ],
        [
         "42",
         "0"
        ],
        [
         "43",
         "0"
        ],
        [
         "44",
         "0"
        ],
        [
         "45",
         "0"
        ],
        [
         "46",
         "0"
        ],
        [
         "47",
         "0"
        ],
        [
         "48",
         "0"
        ],
        [
         "49",
         "0"
        ]
       ],
       "shape": {
        "columns": 1,
        "rows": 400
       }
      },
      "text/plain": [
       "0      0\n",
       "1      0\n",
       "2      0\n",
       "3      0\n",
       "4      0\n",
       "      ..\n",
       "395    1\n",
       "396    1\n",
       "397    1\n",
       "398    1\n",
       "399    1\n",
       "Name: classification, Length: 400, dtype: int8"
      ]
     },
     "execution_count": 17,
     "metadata": {},
     "output_type": "execute_result"
    }
   ],
   "source": [
    "df_kidney['classification']"
   ]
  },
  {
   "cell_type": "code",
   "execution_count": null,
   "id": "13500a50",
   "metadata": {},
   "outputs": [],
   "source": [
    "df_kidney.columns"
   ]
  },
  {
   "cell_type": "code",
   "execution_count": 18,
   "id": "a4106b0a",
   "metadata": {},
   "outputs": [],
   "source": [
    "x=df_kidney.drop(['classification'],axis=1)\n",
    "y=df_kidney['classification']\n"
   ]
  },
  {
   "cell_type": "code",
   "execution_count": 28,
   "id": "0ff4d4e4",
   "metadata": {},
   "outputs": [
    {
     "data": {
      "application/vnd.microsoft.datawrangler.viewer.v0+json": {
       "columns": [
        {
         "name": "index",
         "rawType": "int64",
         "type": "integer"
        },
        {
         "name": "serum_creatinine",
         "rawType": "float64",
         "type": "float"
        },
        {
         "name": "blood_urea",
         "rawType": "float64",
         "type": "float"
        },
        {
         "name": "hemoglobin",
         "rawType": "float64",
         "type": "float"
        },
        {
         "name": "albumin",
         "rawType": "float64",
         "type": "float"
        },
        {
         "name": "specific_gravity",
         "rawType": "float64",
         "type": "float"
        },
        {
         "name": "blood_glucose_random",
         "rawType": "float64",
         "type": "float"
        },
        {
         "name": "packed_cell_volume",
         "rawType": "float64",
         "type": "float"
        },
        {
         "name": "hypertension",
         "rawType": "int8",
         "type": "integer"
        },
        {
         "name": "diabetes_mellitus",
         "rawType": "int8",
         "type": "integer"
        },
        {
         "name": "age",
         "rawType": "float64",
         "type": "float"
        }
       ],
       "ref": "1b68af1f-93e6-452b-8422-7229f77a4b53",
       "rows": [
        [
         "0",
         "1.2",
         "36.0",
         "15.4",
         "1.0",
         "1.02",
         "121.0",
         "44.0",
         "1",
         "1",
         "48.0"
        ],
        [
         "1",
         "0.8",
         "18.0",
         "11.3",
         "4.0",
         "1.02",
         "121.0",
         "38.0",
         "0",
         "0",
         "9.0"
        ],
        [
         "2",
         "1.8",
         "53.0",
         "9.6",
         "2.0",
         "1.01",
         "223.5",
         "31.0",
         "0",
         "1",
         "62.0"
        ],
        [
         "3",
         "3.8",
         "56.0",
         "11.2",
         "4.0",
         "1.0074999999999998",
         "117.0",
         "32.0",
         "1",
         "0",
         "48.0"
        ],
        [
         "4",
         "1.4",
         "26.0",
         "11.6",
         "2.0",
         "1.01",
         "106.0",
         "35.0",
         "0",
         "0",
         "51.0"
        ],
        [
         "5",
         "1.1",
         "25.0",
         "12.2",
         "3.0",
         "1.015",
         "74.0",
         "39.0",
         "1",
         "1",
         "60.0"
        ],
        [
         "6",
         "5.4625",
         "54.0",
         "12.4",
         "0.0",
         "1.01",
         "100.0",
         "36.0",
         "0",
         "0",
         "68.0"
        ],
        [
         "7",
         "1.1",
         "31.0",
         "12.4",
         "2.0",
         "1.015",
         "223.5",
         "44.0",
         "0",
         "1",
         "24.0"
        ],
        [
         "8",
         "1.9",
         "60.0",
         "10.8",
         "3.0",
         "1.015",
         "138.0",
         "33.0",
         "1",
         "1",
         "52.0"
        ],
        [
         "9",
         "5.4625",
         "107.0",
         "9.5",
         "2.0",
         "1.02",
         "70.0",
         "29.0",
         "1",
         "1",
         "53.0"
        ],
        [
         "10",
         "4.0",
         "55.0",
         "9.4",
         "2.0",
         "1.01",
         "223.5",
         "28.0",
         "1",
         "1",
         "50.0"
        ],
        [
         "11",
         "2.7",
         "60.0",
         "10.8",
         "3.0",
         "1.01",
         "223.5",
         "32.0",
         "1",
         "1",
         "63.0"
        ],
        [
         "12",
         "2.1",
         "72.0",
         "9.7",
         "3.0",
         "1.015",
         "208.0",
         "28.0",
         "1",
         "1",
         "68.0"
        ],
        [
         "13",
         "4.6",
         "86.0",
         "9.8",
         "0.0",
         "1.02",
         "98.0",
         "40.0",
         "1",
         "1",
         "68.0"
        ],
        [
         "14",
         "4.1",
         "90.0",
         "5.6",
         "3.0",
         "1.01",
         "157.0",
         "19.0",
         "1",
         "1",
         "68.0"
        ],
        [
         "15",
         "5.4625",
         "113.875",
         "7.6",
         "3.0",
         "1.015",
         "76.0",
         "24.0",
         "1",
         "0",
         "40.0"
        ],
        [
         "16",
         "2.2",
         "46.0",
         "12.6",
         "2.0",
         "1.015",
         "99.0",
         "40.0",
         "0",
         "0",
         "47.0"
        ],
        [
         "17",
         "5.2",
         "87.0",
         "12.1",
         "0.0",
         "1.02",
         "114.0",
         "40.0",
         "1",
         "0",
         "47.0"
        ],
        [
         "18",
         "1.3",
         "27.0",
         "12.7",
         "0.0",
         "1.025",
         "223.5",
         "37.0",
         "1",
         "1",
         "60.0"
        ],
        [
         "19",
         "1.6",
         "31.0",
         "10.3",
         "1.0",
         "1.015",
         "100.0",
         "30.0",
         "1",
         "0",
         "62.0"
        ],
        [
         "20",
         "3.9",
         "113.875",
         "7.7",
         "2.0",
         "1.015",
         "173.0",
         "24.0",
         "1",
         "1",
         "61.0"
        ],
        [
         "21",
         "5.4625",
         "113.875",
         "10.9",
         "0.0",
         "1.02",
         "121.0",
         "32.0",
         "1",
         "1",
         "60.0"
        ],
        [
         "22",
         "5.4625",
         "113.875",
         "9.8",
         "4.0",
         "1.025",
         "95.0",
         "32.0",
         "1",
         "0",
         "48.0"
        ],
        [
         "23",
         "1.3",
         "42.0",
         "12.649999999999999",
         "0.0",
         "1.01",
         "121.0",
         "40.0",
         "0",
         "0",
         "21.0"
        ],
        [
         "24",
         "1.4",
         "50.0",
         "11.1",
         "4.0",
         "1.015",
         "121.0",
         "39.0",
         "1",
         "0",
         "42.0"
        ],
        [
         "25",
         "1.9",
         "75.0",
         "9.9",
         "0.0",
         "1.025",
         "108.0",
         "29.0",
         "1",
         "1",
         "61.0"
        ],
        [
         "26",
         "2.4",
         "45.0",
         "11.6",
         "0.0",
         "1.015",
         "156.0",
         "35.0",
         "1",
         "1",
         "75.0"
        ],
        [
         "27",
         "2.7",
         "87.0",
         "12.5",
         "3.0",
         "1.01",
         "223.5",
         "37.0",
         "1",
         "1",
         "69.0"
        ],
        [
         "28",
         "1.4",
         "31.0",
         "12.649999999999999",
         "1.0",
         "1.02",
         "123.0",
         "40.0",
         "0",
         "1",
         "75.0"
        ],
        [
         "29",
         "1.4",
         "28.0",
         "12.9",
         "1.0",
         "1.0074999999999998",
         "121.0",
         "38.0",
         "0",
         "0",
         "68.0"
        ],
        [
         "30",
         "5.4625",
         "113.875",
         "12.649999999999999",
         "0.0",
         "1.02",
         "93.0",
         "40.0",
         "1",
         "1",
         "55.0"
        ],
        [
         "31",
         "1.5",
         "33.0",
         "10.1",
         "3.0",
         "1.015",
         "107.0",
         "30.0",
         "0",
         "0",
         "73.0"
        ],
        [
         "32",
         "1.5",
         "39.0",
         "11.3",
         "1.0",
         "1.01",
         "159.0",
         "34.0",
         "1",
         "1",
         "61.0"
        ],
        [
         "33",
         "2.5",
         "55.0",
         "10.1",
         "2.0",
         "1.02",
         "140.0",
         "29.0",
         "1",
         "0",
         "60.0"
        ],
        [
         "34",
         "5.2",
         "113.875",
         "12.649999999999999",
         "1.0",
         "1.01",
         "171.0",
         "40.0",
         "0",
         "1",
         "70.0"
        ],
        [
         "35",
         "2.0",
         "39.0",
         "12.0",
         "2.0",
         "1.02",
         "223.5",
         "36.0",
         "1",
         "1",
         "65.0"
        ],
        [
         "36",
         "1.8",
         "29.0",
         "10.3",
         "1.0",
         "1.015",
         "92.0",
         "32.0",
         "1",
         "0",
         "76.0"
        ],
        [
         "37",
         "3.4",
         "65.0",
         "9.7",
         "0.0",
         "1.02",
         "137.0",
         "28.0",
         "1",
         "1",
         "72.0"
        ],
        [
         "38",
         "4.1",
         "103.0",
         "12.5",
         "3.0",
         "1.02",
         "121.0",
         "40.0",
         "1",
         "0",
         "69.0"
        ],
        [
         "39",
         "3.4",
         "70.0",
         "13.0",
         "2.0",
         "1.01",
         "140.0",
         "40.0",
         "1",
         "1",
         "82.0"
        ],
        [
         "40",
         "2.1",
         "80.0",
         "11.1",
         "2.0",
         "1.01",
         "99.0",
         "32.0",
         "1",
         "0",
         "46.0"
        ],
        [
         "41",
         "0.7",
         "20.0",
         "12.649999999999999",
         "0.0",
         "1.01",
         "121.0",
         "40.0",
         "0",
         "0",
         "45.0"
        ],
        [
         "42",
         "1.0",
         "29.0",
         "9.7",
         "0.0",
         "1.01",
         "204.0",
         "33.0",
         "1",
         "0",
         "47.0"
        ],
        [
         "43",
         "5.4625",
         "113.875",
         "7.9",
         "1.0",
         "1.01",
         "79.0",
         "24.0",
         "0",
         "1",
         "35.0"
        ],
        [
         "44",
         "5.4625",
         "77.0",
         "9.7",
         "3.0",
         "1.01",
         "207.0",
         "28.0",
         "1",
         "1",
         "54.0"
        ],
        [
         "45",
         "5.4625",
         "89.0",
         "9.3",
         "3.0",
         "1.02",
         "208.0",
         "40.0",
         "1",
         "1",
         "54.0"
        ],
        [
         "46",
         "1.2",
         "24.0",
         "12.4",
         "0.0",
         "1.015",
         "124.0",
         "37.0",
         "0",
         "1",
         "48.0"
        ],
        [
         "47",
         "0.8",
         "17.0",
         "15.0",
         "3.0",
         "1.01",
         "121.0",
         "45.0",
         "0",
         "0",
         "11.0"
        ],
        [
         "48",
         "0.9",
         "32.0",
         "10.0",
         "0.0",
         "1.0074999999999998",
         "70.0",
         "29.0",
         "1",
         "1",
         "73.0"
        ],
        [
         "49",
         "3.0",
         "72.0",
         "9.7",
         "2.0",
         "1.01",
         "144.0",
         "29.0",
         "1",
         "1",
         "60.0"
        ]
       ],
       "shape": {
        "columns": 10,
        "rows": 400
       }
      },
      "text/html": [
       "<div>\n",
       "<style scoped>\n",
       "    .dataframe tbody tr th:only-of-type {\n",
       "        vertical-align: middle;\n",
       "    }\n",
       "\n",
       "    .dataframe tbody tr th {\n",
       "        vertical-align: top;\n",
       "    }\n",
       "\n",
       "    .dataframe thead th {\n",
       "        text-align: right;\n",
       "    }\n",
       "</style>\n",
       "<table border=\"1\" class=\"dataframe\">\n",
       "  <thead>\n",
       "    <tr style=\"text-align: right;\">\n",
       "      <th></th>\n",
       "      <th>serum_creatinine</th>\n",
       "      <th>blood_urea</th>\n",
       "      <th>hemoglobin</th>\n",
       "      <th>albumin</th>\n",
       "      <th>specific_gravity</th>\n",
       "      <th>blood_glucose_random</th>\n",
       "      <th>packed_cell_volume</th>\n",
       "      <th>hypertension</th>\n",
       "      <th>diabetes_mellitus</th>\n",
       "      <th>age</th>\n",
       "    </tr>\n",
       "  </thead>\n",
       "  <tbody>\n",
       "    <tr>\n",
       "      <th>0</th>\n",
       "      <td>1.2</td>\n",
       "      <td>36.0</td>\n",
       "      <td>15.4</td>\n",
       "      <td>1.0</td>\n",
       "      <td>1.0200</td>\n",
       "      <td>121.0</td>\n",
       "      <td>44.0</td>\n",
       "      <td>1</td>\n",
       "      <td>1</td>\n",
       "      <td>48.0</td>\n",
       "    </tr>\n",
       "    <tr>\n",
       "      <th>1</th>\n",
       "      <td>0.8</td>\n",
       "      <td>18.0</td>\n",
       "      <td>11.3</td>\n",
       "      <td>4.0</td>\n",
       "      <td>1.0200</td>\n",
       "      <td>121.0</td>\n",
       "      <td>38.0</td>\n",
       "      <td>0</td>\n",
       "      <td>0</td>\n",
       "      <td>9.0</td>\n",
       "    </tr>\n",
       "    <tr>\n",
       "      <th>2</th>\n",
       "      <td>1.8</td>\n",
       "      <td>53.0</td>\n",
       "      <td>9.6</td>\n",
       "      <td>2.0</td>\n",
       "      <td>1.0100</td>\n",
       "      <td>223.5</td>\n",
       "      <td>31.0</td>\n",
       "      <td>0</td>\n",
       "      <td>1</td>\n",
       "      <td>62.0</td>\n",
       "    </tr>\n",
       "    <tr>\n",
       "      <th>3</th>\n",
       "      <td>3.8</td>\n",
       "      <td>56.0</td>\n",
       "      <td>11.2</td>\n",
       "      <td>4.0</td>\n",
       "      <td>1.0075</td>\n",
       "      <td>117.0</td>\n",
       "      <td>32.0</td>\n",
       "      <td>1</td>\n",
       "      <td>0</td>\n",
       "      <td>48.0</td>\n",
       "    </tr>\n",
       "    <tr>\n",
       "      <th>4</th>\n",
       "      <td>1.4</td>\n",
       "      <td>26.0</td>\n",
       "      <td>11.6</td>\n",
       "      <td>2.0</td>\n",
       "      <td>1.0100</td>\n",
       "      <td>106.0</td>\n",
       "      <td>35.0</td>\n",
       "      <td>0</td>\n",
       "      <td>0</td>\n",
       "      <td>51.0</td>\n",
       "    </tr>\n",
       "    <tr>\n",
       "      <th>...</th>\n",
       "      <td>...</td>\n",
       "      <td>...</td>\n",
       "      <td>...</td>\n",
       "      <td>...</td>\n",
       "      <td>...</td>\n",
       "      <td>...</td>\n",
       "      <td>...</td>\n",
       "      <td>...</td>\n",
       "      <td>...</td>\n",
       "      <td>...</td>\n",
       "    </tr>\n",
       "    <tr>\n",
       "      <th>395</th>\n",
       "      <td>0.5</td>\n",
       "      <td>49.0</td>\n",
       "      <td>15.7</td>\n",
       "      <td>0.0</td>\n",
       "      <td>1.0200</td>\n",
       "      <td>140.0</td>\n",
       "      <td>47.0</td>\n",
       "      <td>0</td>\n",
       "      <td>0</td>\n",
       "      <td>55.0</td>\n",
       "    </tr>\n",
       "    <tr>\n",
       "      <th>396</th>\n",
       "      <td>1.2</td>\n",
       "      <td>31.0</td>\n",
       "      <td>16.5</td>\n",
       "      <td>0.0</td>\n",
       "      <td>1.0250</td>\n",
       "      <td>75.0</td>\n",
       "      <td>54.0</td>\n",
       "      <td>0</td>\n",
       "      <td>0</td>\n",
       "      <td>42.0</td>\n",
       "    </tr>\n",
       "    <tr>\n",
       "      <th>397</th>\n",
       "      <td>0.6</td>\n",
       "      <td>26.0</td>\n",
       "      <td>15.8</td>\n",
       "      <td>0.0</td>\n",
       "      <td>1.0200</td>\n",
       "      <td>100.0</td>\n",
       "      <td>49.0</td>\n",
       "      <td>0</td>\n",
       "      <td>0</td>\n",
       "      <td>12.0</td>\n",
       "    </tr>\n",
       "    <tr>\n",
       "      <th>398</th>\n",
       "      <td>1.0</td>\n",
       "      <td>50.0</td>\n",
       "      <td>14.2</td>\n",
       "      <td>0.0</td>\n",
       "      <td>1.0250</td>\n",
       "      <td>114.0</td>\n",
       "      <td>51.0</td>\n",
       "      <td>0</td>\n",
       "      <td>0</td>\n",
       "      <td>17.0</td>\n",
       "    </tr>\n",
       "    <tr>\n",
       "      <th>399</th>\n",
       "      <td>1.1</td>\n",
       "      <td>18.0</td>\n",
       "      <td>15.8</td>\n",
       "      <td>0.0</td>\n",
       "      <td>1.0250</td>\n",
       "      <td>131.0</td>\n",
       "      <td>53.0</td>\n",
       "      <td>0</td>\n",
       "      <td>0</td>\n",
       "      <td>58.0</td>\n",
       "    </tr>\n",
       "  </tbody>\n",
       "</table>\n",
       "<p>400 rows × 10 columns</p>\n",
       "</div>"
      ],
      "text/plain": [
       "     serum_creatinine  blood_urea  hemoglobin  albumin  specific_gravity  \\\n",
       "0                 1.2        36.0        15.4      1.0            1.0200   \n",
       "1                 0.8        18.0        11.3      4.0            1.0200   \n",
       "2                 1.8        53.0         9.6      2.0            1.0100   \n",
       "3                 3.8        56.0        11.2      4.0            1.0075   \n",
       "4                 1.4        26.0        11.6      2.0            1.0100   \n",
       "..                ...         ...         ...      ...               ...   \n",
       "395               0.5        49.0        15.7      0.0            1.0200   \n",
       "396               1.2        31.0        16.5      0.0            1.0250   \n",
       "397               0.6        26.0        15.8      0.0            1.0200   \n",
       "398               1.0        50.0        14.2      0.0            1.0250   \n",
       "399               1.1        18.0        15.8      0.0            1.0250   \n",
       "\n",
       "     blood_glucose_random  packed_cell_volume  hypertension  \\\n",
       "0                   121.0                44.0             1   \n",
       "1                   121.0                38.0             0   \n",
       "2                   223.5                31.0             0   \n",
       "3                   117.0                32.0             1   \n",
       "4                   106.0                35.0             0   \n",
       "..                    ...                 ...           ...   \n",
       "395                 140.0                47.0             0   \n",
       "396                  75.0                54.0             0   \n",
       "397                 100.0                49.0             0   \n",
       "398                 114.0                51.0             0   \n",
       "399                 131.0                53.0             0   \n",
       "\n",
       "     diabetes_mellitus   age  \n",
       "0                    1  48.0  \n",
       "1                    0   9.0  \n",
       "2                    1  62.0  \n",
       "3                    0  48.0  \n",
       "4                    0  51.0  \n",
       "..                 ...   ...  \n",
       "395                  0  55.0  \n",
       "396                  0  42.0  \n",
       "397                  0  12.0  \n",
       "398                  0  17.0  \n",
       "399                  0  58.0  \n",
       "\n",
       "[400 rows x 10 columns]"
      ]
     },
     "execution_count": 28,
     "metadata": {},
     "output_type": "execute_result"
    }
   ],
   "source": [
    "x"
   ]
  },
  {
   "cell_type": "code",
   "execution_count": 19,
   "id": "fbfb9d4c",
   "metadata": {},
   "outputs": [
    {
     "data": {
      "application/vnd.microsoft.datawrangler.viewer.v0+json": {
       "columns": [
        {
         "name": "index",
         "rawType": "int64",
         "type": "integer"
        },
        {
         "name": "classification",
         "rawType": "int8",
         "type": "integer"
        }
       ],
       "ref": "584dd0d4-0eca-4d91-a1a5-1e8aeb5b2956",
       "rows": [
        [
         "0",
         "0"
        ],
        [
         "1",
         "0"
        ],
        [
         "2",
         "0"
        ],
        [
         "3",
         "0"
        ],
        [
         "4",
         "0"
        ],
        [
         "5",
         "0"
        ],
        [
         "6",
         "0"
        ],
        [
         "7",
         "0"
        ],
        [
         "8",
         "0"
        ],
        [
         "9",
         "0"
        ],
        [
         "10",
         "0"
        ],
        [
         "11",
         "0"
        ],
        [
         "12",
         "0"
        ],
        [
         "13",
         "0"
        ],
        [
         "14",
         "0"
        ],
        [
         "15",
         "0"
        ],
        [
         "16",
         "0"
        ],
        [
         "17",
         "0"
        ],
        [
         "18",
         "0"
        ],
        [
         "19",
         "0"
        ],
        [
         "20",
         "0"
        ],
        [
         "21",
         "0"
        ],
        [
         "22",
         "0"
        ],
        [
         "23",
         "0"
        ],
        [
         "24",
         "0"
        ],
        [
         "25",
         "0"
        ],
        [
         "26",
         "0"
        ],
        [
         "27",
         "0"
        ],
        [
         "28",
         "0"
        ],
        [
         "29",
         "0"
        ],
        [
         "30",
         "0"
        ],
        [
         "31",
         "0"
        ],
        [
         "32",
         "0"
        ],
        [
         "33",
         "0"
        ],
        [
         "34",
         "0"
        ],
        [
         "35",
         "0"
        ],
        [
         "36",
         "0"
        ],
        [
         "37",
         "0"
        ],
        [
         "38",
         "0"
        ],
        [
         "39",
         "0"
        ],
        [
         "40",
         "0"
        ],
        [
         "41",
         "0"
        ],
        [
         "42",
         "0"
        ],
        [
         "43",
         "0"
        ],
        [
         "44",
         "0"
        ],
        [
         "45",
         "0"
        ],
        [
         "46",
         "0"
        ],
        [
         "47",
         "0"
        ],
        [
         "48",
         "0"
        ],
        [
         "49",
         "0"
        ]
       ],
       "shape": {
        "columns": 1,
        "rows": 400
       }
      },
      "text/plain": [
       "0      0\n",
       "1      0\n",
       "2      0\n",
       "3      0\n",
       "4      0\n",
       "      ..\n",
       "395    1\n",
       "396    1\n",
       "397    1\n",
       "398    1\n",
       "399    1\n",
       "Name: classification, Length: 400, dtype: int8"
      ]
     },
     "execution_count": 19,
     "metadata": {},
     "output_type": "execute_result"
    }
   ],
   "source": [
    "y"
   ]
  },
  {
   "cell_type": "code",
   "execution_count": 22,
   "id": "579aefa1",
   "metadata": {},
   "outputs": [],
   "source": [
    "from sklearn.model_selection import train_test_split\n",
    "\n",
    "xtrain,xtest,ytrain,ytest=train_test_split(x,y,test_size=0.2,random_state=42)"
   ]
  },
  {
   "cell_type": "code",
   "execution_count": null,
   "id": "a29b8ec2",
   "metadata": {},
   "outputs": [
    {
     "name": "stdout",
     "output_type": "stream",
     "text": [
      "Class counts: {0: 250, 1: 150}\n",
      "Imbalance ratio: 1.67\n",
      "Dataset is imbalanced → using F1-score as main metric\n",
      "\n",
      " Model Performance Comparison:\n",
      "                    Model  Accuracy  Precision  Recall        F1\n",
      "0  DecisionTreeClassifier    1.0000   1.000000  1.0000  1.000000\n",
      "3  RandomForestClassifier    1.0000   1.000000  1.0000  1.000000\n",
      "1      LogisticRegression    0.9875   0.987736  0.9875  0.987446\n",
      "2    KNeighborsClassifier    0.9500   0.956250  0.9500  0.950667\n",
      "\n",
      " Best model based on F1: DecisionTreeClassifier\n",
      " Best model saved as 'best_model.pkl'\n"
     ]
    }
   ],
   "source": [
    "import numpy as np\n",
    "import pickle\n",
    "\n",
    "\n",
    "from sklearn.tree import DecisionTreeClassifier\n",
    "from sklearn.linear_model import LogisticRegression\n",
    "from sklearn.neighbors import KNeighborsClassifier\n",
    "from sklearn.ensemble import RandomForestClassifier\n",
    "from sklearn.metrics import accuracy_score, precision_score, recall_score, f1_score\n",
    "\n",
    "\n",
    "class_counts = np.bincount(y.astype(int))\n",
    "imbalance_ratio = max(class_counts) / min(class_counts)\n",
    "\n",
    "print(\"Class counts:\", dict(enumerate(class_counts)))\n",
    "print(f\"Imbalance ratio: {imbalance_ratio:.2f}\")\n",
    "\n",
    "if imbalance_ratio > 1.5:\n",
    "    main_metric = \"F1\"\n",
    "    print(\"Dataset is imbalanced → using F1-score as main metric\")\n",
    "else:\n",
    "    main_metric = \"Accuracy\"\n",
    "    print(\"Dataset is balanced → using Accuracy as main metric\")\n",
    "\n",
    "# Models to test\n",
    "models = {\n",
    "    \"DecisionTreeClassifier\": DecisionTreeClassifier(),\n",
    "    \"LogisticRegression\": LogisticRegression(max_iter=1000),\n",
    "    \"KNeighborsClassifier\": KNeighborsClassifier(),\n",
    "    \"RandomForestClassifier\": RandomForestClassifier()\n",
    "}\n",
    "\n",
    "results = []\n",
    "\n",
    "trained_models = {}  # Store trained model objects\n",
    "\n",
    "\n",
    "# Train & evaluate each model\n",
    "for name, model in models.items():\n",
    "    model.fit(xtrain, ytrain)\n",
    "    y_pred = model.predict(xtest)\n",
    "\n",
    "    trained_models[name] = model  # Store the trained model\n",
    "\n",
    "    results.append({\n",
    "        \"Model\": name,\n",
    "        \"Accuracy\": accuracy_score(ytest, y_pred),\n",
    "        \"Precision\": precision_score(ytest, y_pred, average=\"weighted\"),\n",
    "        \"Recall\": recall_score(ytest, y_pred, average=\"weighted\"),\n",
    "        \"F1\": f1_score(ytest, y_pred, average=\"weighted\")\n",
    "    })\n",
    "\n",
    "# Convert to DataFrame\n",
    "df_results = pd.DataFrame(results)\n",
    "\n",
    "# Sort by chosen main metric\n",
    "df_results = df_results.sort_values(by=main_metric, ascending=False)\n",
    "print(\"\\n Model Performance Comparison:\")\n",
    "print(df_results)\n",
    "\n",
    "# Best model\n",
    "# Best model\n",
    "best_model_name = df_results.iloc[0][\"Model\"]\n",
    "best_model = trained_models[best_model_name]\n",
    "print(f\"\\n Best model based on {main_metric}: {best_model_name}\")\n",
    "\n",
    "\n",
    "# Save the best model to a pickle file\n",
    "with open(\"best_model_kidney.pkl\", \"wb\") as f:\n",
    "    pickle.dump(best_model, f)\n",
    "print(f\" Best model saved as 'best_model.pkl'\")\n"
   ]
  }
 ],
 "metadata": {
  "kernelspec": {
   "display_name": ".venv",
   "language": "python",
   "name": "python3"
  },
  "language_info": {
   "codemirror_mode": {
    "name": "ipython",
    "version": 3
   },
   "file_extension": ".py",
   "mimetype": "text/x-python",
   "name": "python",
   "nbconvert_exporter": "python",
   "pygments_lexer": "ipython3",
   "version": "3.12.10"
  }
 },
 "nbformat": 4,
 "nbformat_minor": 5
}
